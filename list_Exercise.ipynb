{
  "nbformat": 4,
  "nbformat_minor": 0,
  "metadata": {
    "colab": {
      "provenance": []
    },
    "kernelspec": {
      "name": "python3",
      "display_name": "Python 3"
    },
    "language_info": {
      "name": "python"
    }
  },
  "cells": [
    {
      "cell_type": "code",
      "execution_count": 5,
      "metadata": {
        "colab": {
          "base_uri": "https://localhost:8080/"
        },
        "id": "lKa4-7jj_3Vg",
        "outputId": "373e35dc-d234-411d-901a-4138b0bbbede"
      },
      "outputs": [
        {
          "output_type": "stream",
          "name": "stdout",
          "text": [
            "Sum Of All Elements In Given List :  550\n"
          ]
        }
      ],
      "source": [
        "# 1. Write a Python program to find the sum of all elements in a list.\n",
        "\n",
        "def sum(lst): #create function for sum\n",
        "  total_sum = 0\n",
        "\n",
        "  for i in lst: #for loop for using all elements in the list\n",
        "    total_sum = total_sum + i\n",
        "  return total_sum\n",
        "\n",
        "lst = [10,20,30,40,50,60,70,80,90,100] #user input / List\n",
        "result = sum(lst)  #call Function\n",
        "print(\"Sum Of All Elements In Given List : \",result)"
      ]
    },
    {
      "cell_type": "code",
      "source": [
        "#OR Another way to Calculate Sum by using built-in sum() function\n",
        "\n",
        "def cal_sum(l):\n",
        "  total = sum(l)\n",
        "  return total\n",
        "\n",
        "l = [10,20,30,40,50,60,70,80,90,100]\n",
        "result = cal_sum(l)\n",
        "print(\"Sum Of All Elements In Given List : \",result)"
      ],
      "metadata": {
        "colab": {
          "base_uri": "https://localhost:8080/"
        },
        "id": "ij3CwszfA3BQ",
        "outputId": "927292a4-7fdd-4527-a868-d809dc1d8430"
      },
      "execution_count": 6,
      "outputs": [
        {
          "output_type": "stream",
          "name": "stdout",
          "text": [
            "Sum Of All Elements In Given List :  550\n"
          ]
        }
      ]
    },
    {
      "cell_type": "code",
      "source": [
        "# 2. Write a Python program to find the maximum and minimum elements in a list.\n",
        "\n",
        "def min_max(l): #create function for find min and max\n",
        "\n",
        "  if not l:  #check given list is empty\n",
        "    return None,None #return None for bot min and max if list is empty\n",
        "\n",
        "  # we here use built_in function max() and min()\n",
        "  max_l = max(l)\n",
        "  min_l = min(l)\n",
        "  return max_l,min_l\n",
        "\n",
        "l = [1,2,3,4,5,6,7,8,9,10] #list\n",
        "max_value, min_value = min_max(l) #call function\n",
        "\n",
        "print(\"Maximum Element in List : \",max_value)\n",
        "print(\"Minimum Element in List : \",min_value)"
      ],
      "metadata": {
        "colab": {
          "base_uri": "https://localhost:8080/"
        },
        "id": "f7LU3tsMA6kp",
        "outputId": "d59e1c97-0600-4cec-9724-5fa7e7987500"
      },
      "execution_count": 7,
      "outputs": [
        {
          "output_type": "stream",
          "name": "stdout",
          "text": [
            "Maximum Element in List :  10\n",
            "Minimum Element in List :  1\n"
          ]
        }
      ]
    },
    {
      "cell_type": "code",
      "source": [
        "#OR Another way to find min and max element in list.\n",
        "\n",
        "def max_min(lst): #create function\n",
        "  if not l:  #check given list is empty\n",
        "    return None,None #return None for bot min and max if list is empty\n",
        "\n",
        "    # Initialize max and min with [0] the first element of the list\n",
        "  max_lst = min_lst = lst[0]\n",
        "\n",
        "  for i in lst:\n",
        "    if i > max_lst:\n",
        "      max_lst = i\n",
        "    elif i < min_lst:\n",
        "      min_lst = i\n",
        "\n",
        "  return max_lst,min_lst\n",
        "\n",
        "lst = [1,2,3,4,5,6,7,8,9,10]\n",
        "max_value, min_value = max_min(lst) #call function\n",
        "\n",
        "print(\"Maximum Element in List : \",max_value)\n",
        "print(\"Minimum Element in List : \",min_value)"
      ],
      "metadata": {
        "colab": {
          "base_uri": "https://localhost:8080/"
        },
        "id": "sfpUU2owA-oD",
        "outputId": "675fc79c-af5e-4189-9c47-160cd3db03c8"
      },
      "execution_count": 8,
      "outputs": [
        {
          "output_type": "stream",
          "name": "stdout",
          "text": [
            "Maximum Element in List :  10\n",
            "Minimum Element in List :  1\n"
          ]
        }
      ]
    },
    {
      "cell_type": "code",
      "source": [
        "# 3. Write a Python program to remove duplicates from a list.\n",
        "\n",
        "def remove_dup(lst):\n",
        "  unique_lst = set() #use set for keep the unique elements in list\n",
        "\n",
        "  result=[] #use empty list for maintain the the tract of list\n",
        "\n",
        "  for i in lst:\n",
        "    # If the element is not in the set, add it to both the set and the result list\n",
        "    if i not in unique_lst:\n",
        "      unique_lst.add(i)\n",
        "      result.append(i)\n",
        "  return result\n",
        "\n",
        "lst = [1,2,3,4,5,6,1,2,3,4,5,7,8,9,10] #list Given by User\n",
        "final_list = remove_dup(lst) #call Function\n",
        "\n",
        "print(\"List Given By User : \",lst) #original list\n",
        "print(\"Remove Duplicates From The List : \",final_list) #list with removes duplicates"
      ],
      "metadata": {
        "colab": {
          "base_uri": "https://localhost:8080/"
        },
        "id": "kkrZCbS6BCLo",
        "outputId": "f33a73bc-b247-46cf-f2ce-24df334b9b59"
      },
      "execution_count": 9,
      "outputs": [
        {
          "output_type": "stream",
          "name": "stdout",
          "text": [
            "List Given By User :  [1, 2, 3, 4, 5, 6, 1, 2, 3, 4, 5, 7, 8, 9, 10]\n",
            "Remove Duplicates From The List :  [1, 2, 3, 4, 5, 6, 7, 8, 9, 10]\n"
          ]
        }
      ]
    },
    {
      "cell_type": "code",
      "source": [
        "#or another way to remove duplicates from list.\n",
        "\n",
        "def remove_duplicate(lst):\n",
        "\n",
        "  unique_list = list(set(lst)) # use  set inside list to automatically remove duplicates\n",
        "  return unique_list\n",
        "\n",
        "lst = [1,2,3,4,5,6,1,2,3,4,5,7,8,9,10] #list Given by User\n",
        "final_list = remove_dup(lst) #call Function\n",
        "\n",
        "print(\"List Given By User : \",lst) #original list\n",
        "print(\"Remove Duplicates From The List : \",final_list) #list with removes duplicates"
      ],
      "metadata": {
        "colab": {
          "base_uri": "https://localhost:8080/"
        },
        "id": "dV2Z3RIuBGtM",
        "outputId": "cf0f1561-203f-4eda-a9e8-879230a9323b"
      },
      "execution_count": 10,
      "outputs": [
        {
          "output_type": "stream",
          "name": "stdout",
          "text": [
            "List Given By User :  [1, 2, 3, 4, 5, 6, 1, 2, 3, 4, 5, 7, 8, 9, 10]\n",
            "Remove Duplicates From The List :  [1, 2, 3, 4, 5, 6, 7, 8, 9, 10]\n"
          ]
        }
      ]
    },
    {
      "cell_type": "code",
      "source": [
        "# 4. Write a Python program to check if a list is sorted in ascending order.\n",
        "\n",
        "def sorted_ascd(lst):\n",
        "  return all(lst[i] <= lst[i+1] for i in range(len(lst)-1)) # True if the list is sorted in ascending order, False otherwise.\n",
        "\n",
        "lst = [1,2,3,4,5,6,7]\n",
        "if sorted_ascd(lst): #call Function.\n",
        "  print(\"Given List Is Sorted In Ascending Order.\") #if list is sorted.\n",
        "else:\n",
        "  print(\"Given List Is Not-Sorted In Ascending Order.\") #if list is not-sorted."
      ],
      "metadata": {
        "colab": {
          "base_uri": "https://localhost:8080/"
        },
        "id": "Orsudb2uBK4F",
        "outputId": "7c40a9fd-fdca-4f66-a520-bd83ba41c062"
      },
      "execution_count": 11,
      "outputs": [
        {
          "output_type": "stream",
          "name": "stdout",
          "text": [
            "Given List Is Sorted In Ascending Order.\n"
          ]
        }
      ]
    },
    {
      "cell_type": "code",
      "source": [
        "# 5. Write a Python program to find the second largest element in a list.\n",
        "\n",
        "def sec_lar(l):\n",
        "  unique_list = list(set(l)) # Remove Duplicates.\n",
        "  unique_list.sort(reverse=True) # Sorted list in decending order.\n",
        "\n",
        "  if len(unique_list) >= 2:\n",
        "    return unique_list[1]     #The second largest element, or None if it doesn't exist.\n",
        "  else:\n",
        "    return None\n",
        "l = [10,20,78,30,40,50,100] #user input list\n",
        "result = sec_lar(l) #call funtion\n",
        "\n",
        "if sec_lar is not None: #check sec_lar() function is None or Not None\n",
        "  print(\"Second Largest Element In The Given List : \",result)\n",
        "else:\n",
        "  print(\"List Does'nt Have Second.\")\n"
      ],
      "metadata": {
        "colab": {
          "base_uri": "https://localhost:8080/"
        },
        "id": "8ZAVXjYfBMm3",
        "outputId": "20628032-c11d-4492-e7a0-3c28a373f954"
      },
      "execution_count": 12,
      "outputs": [
        {
          "output_type": "stream",
          "name": "stdout",
          "text": [
            "Second Largest Element In The Given List :  78\n"
          ]
        }
      ]
    },
    {
      "cell_type": "code",
      "source": [
        "#or another way to find second largest element in list.\n",
        "\n",
        "my_list = [10, 5, 8, 20, 15]\n",
        "\n",
        "# Remove duplicates and sort the list in descending order\n",
        "sorted_list = sorted(set(my_list), reverse=True)\n",
        "\n",
        "# Check if there is a second largest element\n",
        "if len(sorted_list) >= 2:\n",
        "    second_largest = sorted_list[1]\n",
        "    print(\"The second largest element is:\", second_largest)\n",
        "else:\n",
        "    print(\"The list doesn't have a second largest element.\")"
      ],
      "metadata": {
        "id": "0Kv4WBfyBmsY",
        "colab": {
          "base_uri": "https://localhost:8080/"
        },
        "outputId": "182f5f59-4ebc-4723-9e2d-fb0c81769e91"
      },
      "execution_count": 13,
      "outputs": [
        {
          "output_type": "stream",
          "name": "stdout",
          "text": [
            "The second largest element is: 15\n"
          ]
        }
      ]
    },
    {
      "cell_type": "code",
      "source": [
        "# 6. Write a Python program to sort a list of strings in alphabetical order.\n",
        "\n",
        "a = ['A','C','B','V','L','F','M','W','X','P','Z','Q']\n",
        "sorted_list = sorted(a)\n",
        "\n",
        "print(\"Sorted list of String In Alphabetical Order : \",sorted_list)"
      ],
      "metadata": {
        "colab": {
          "base_uri": "https://localhost:8080/"
        },
        "id": "BHkqN5R6COq1",
        "outputId": "6260ac0a-961c-427d-c890-bdf505a669c4"
      },
      "execution_count": 14,
      "outputs": [
        {
          "output_type": "stream",
          "name": "stdout",
          "text": [
            "Sorted list of String In Alphabetical Order :  ['A', 'B', 'C', 'F', 'L', 'M', 'P', 'Q', 'V', 'W', 'X', 'Z']\n"
          ]
        }
      ]
    },
    {
      "cell_type": "code",
      "source": [
        "# 7. Write a Python program to find the common elements between two lists.\n",
        "\n",
        "a = [1,2,3,4,5,6,7,8,9,10]\n",
        "b = [1,2,3,4,5,11,20,30,40,50]\n",
        "\n",
        "common_ele = set(a) & set(b)\n",
        "\n",
        "print(\"Common Elements Between a & b Is : \",list(common_ele))"
      ],
      "metadata": {
        "colab": {
          "base_uri": "https://localhost:8080/"
        },
        "id": "0UDfZU6HD7v5",
        "outputId": "bfc3c837-8b7b-44b3-b1e9-8ebdc6a54331"
      },
      "execution_count": 15,
      "outputs": [
        {
          "output_type": "stream",
          "name": "stdout",
          "text": [
            "Common Elements Between a & b Is :  [1, 2, 3, 4, 5]\n"
          ]
        }
      ]
    },
    {
      "cell_type": "code",
      "source": [
        "# 8. Write a Python program to remove the nth occurrence of an element from a list.\n",
        "\n",
        "def remove_no(l,a,n):\n",
        "  count = 0\n",
        "  index = None\n",
        "\n",
        "  for i, item in enumerate(l):\n",
        "    if item == a:\n",
        "      count = count + 1\n",
        "      if count == n:\n",
        "        index = i\n",
        "        break\n",
        "\n",
        "  if index is not None:\n",
        "    l.pop(index)\n",
        "    print(f\"Element '{a}' removed at index {index}\")\n",
        "  else:\n",
        "    print(f\"Element '{a}' not found or does not occur {n} times in the list\")\n",
        "\n",
        "l = [1,2,2,3,4,5,6,7,7,8,5,9,8,5,2,5]\n",
        "remove_no(l,2,2)\n",
        "print(\"Updates List : \",l)"
      ],
      "metadata": {
        "id": "FzTNlRP2FQcM",
        "colab": {
          "base_uri": "https://localhost:8080/"
        },
        "outputId": "eea255bb-d879-4da1-9fac-f773acb946fc"
      },
      "execution_count": 16,
      "outputs": [
        {
          "output_type": "stream",
          "name": "stdout",
          "text": [
            "Element '2' removed at index 2\n",
            "Updates List :  [1, 2, 3, 4, 5, 6, 7, 7, 8, 5, 9, 8, 5, 2, 5]\n"
          ]
        }
      ]
    },
    {
      "cell_type": "code",
      "source": [
        "# 9. Write a Python program to find the difference between two lists.\n",
        "\n",
        "\n",
        "def diff_list(lst1, lst2):\n",
        "\n",
        "    diff_1 = list(set(lst1) - set(lst2))\n",
        "    diff_2 = list(set(lst2) - set(lst1))\n",
        "    return diff_1 + diff_2 #add different elements\n",
        "\n",
        "lst1 = [1,2,3,4,5]\n",
        "lst2 = [1,2,3,4,5,6,7,8,9,10]\n",
        "\n",
        "difference = diff_list(lst1, lst2)\n",
        "print(\"Difference between the two lists:\", difference)"
      ],
      "metadata": {
        "colab": {
          "base_uri": "https://localhost:8080/"
        },
        "id": "cLGSOaqnFtpu",
        "outputId": "247664d9-308f-4318-a978-821e0ef68ff3"
      },
      "execution_count": 17,
      "outputs": [
        {
          "output_type": "stream",
          "name": "stdout",
          "text": [
            "Difference between the two lists: [6, 7, 8, 9, 10]\n"
          ]
        }
      ]
    },
    {
      "cell_type": "code",
      "source": [
        "# 10. Write a Python program to remove the elements of a list that are divisible by 3.\n",
        "\n",
        "def divisible(l):\n",
        "\n",
        "    return [i for i in l if i % 3 != 0] #remove 3,6,9 in given list\n",
        "\n",
        "l = [1, 2, 3, 4, 5, 6, 7, 8, 9, 10]\n",
        "\n",
        "modified_list = divisible(l)\n",
        "print(\"Remove All Divisible By 3 In List : \", modified_list)\n"
      ],
      "metadata": {
        "colab": {
          "base_uri": "https://localhost:8080/"
        },
        "id": "rZfCLm2RGxgS",
        "outputId": "e096f8d0-372a-46cd-c457-83a8be5cfafd"
      },
      "execution_count": 18,
      "outputs": [
        {
          "output_type": "stream",
          "name": "stdout",
          "text": [
            "Remove All Divisible By 3 In List :  [1, 2, 4, 5, 7, 8, 10]\n"
          ]
        }
      ]
    }
  ]
}