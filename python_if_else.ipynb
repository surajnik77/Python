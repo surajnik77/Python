{
  "nbformat": 4,
  "nbformat_minor": 0,
  "metadata": {
    "colab": {
      "provenance": [],
      "authorship_tag": "ABX9TyPNoFfh7TRT33TV1vBakrdx",
      "include_colab_link": true
    },
    "kernelspec": {
      "name": "python3",
      "display_name": "Python 3"
    },
    "language_info": {
      "name": "python"
    }
  },
  "cells": [
    {
      "cell_type": "markdown",
      "metadata": {
        "id": "view-in-github",
        "colab_type": "text"
      },
      "source": [
        "<a href=\"https://colab.research.google.com/github/surajnik77/Python/blob/main/python_if_else.ipynb\" target=\"_parent\"><img src=\"https://colab.research.google.com/assets/colab-badge.svg\" alt=\"Open In Colab\"/></a>"
      ]
    },
    {
      "cell_type": "markdown",
      "source": [
        "#IF ELSE STATEMENT\n",
        "1. Write a Python program to check if a number is positive, negative, or zero.\n",
        "2. Write a Python program to check if a number is even or odd.\n",
        "3. Write a Python program to check if a year is a leap year or not.\n",
        "4. Write a Python program to find the maximum of three numbers using if-else.\n",
        "5. Write a Python program to check if a number is prime.\n",
        "6. Write a Python program to check if a number is divisible by both 3 and 5.\n",
        "7. Write a Python program to check if a character is a vowel or consonant.\n",
        "8. Write a Python program to check if a given string is a palindrome using if-else.\n",
        "9. Write a Python program to determine the largest among three numbers using nested if-else.\n",
        "10. Write a Python program to check if a triangle is equilateral, isosceles, or scalene based on its side lengths using if-else."
      ],
      "metadata": {
        "id": "zfiXX1sHCf2F"
      }
    },
    {
      "cell_type": "code",
      "execution_count": null,
      "metadata": {
        "colab": {
          "base_uri": "https://localhost:8080/"
        },
        "id": "KNohbwXe3mKd",
        "outputId": "c5a94754-a051-4faf-8527-f5664fdc6fff"
      },
      "outputs": [
        {
          "output_type": "stream",
          "name": "stdout",
          "text": [
            "Enter The Number : 19\n",
            "n is odd . weird !\n",
            "Number is :  19\n"
          ]
        }
      ],
      "source": [
        "#Even and Odd\n",
        "\n",
        "# Given an integer, , perform the following conditional actions:\n",
        "\n",
        "# If  is odd, print Weird\n",
        "# If  is even and in the inclusive range of  to , print Not Weird\n",
        "# If  is even and in the inclusive range of  to , print Weird\n",
        "# If  is even and greater than , print Not Weird\n",
        "\n",
        "def Even_odd(n):\n",
        "  if n%2==0 and 2<=n<=5 :\n",
        "    print(\"n is even and n is bet 2 to 5 and n is Not Weird !\")\n",
        "  elif n%2==0 and 6<=n<=20 :\n",
        "    print(\"n is even and it is bet 6 to 20 it is Weird !!\")\n",
        "  elif n%2==0 and n>=20 :\n",
        "    print(\" n>20. n is even and it is Not Weird !\")\n",
        "  else:\n",
        "    print(\"n is odd . weird !\")\n",
        "  return n\n",
        "\n",
        "n = int(input(\"Enter The Number : \"))\n",
        "\n",
        "result = Even_odd(n)\n",
        "print(\"Number is : \",result)\n"
      ]
    },
    {
      "cell_type": "code",
      "source": [
        "#1. Write a Python program to check if a number is positive, negative, or zero.\n",
        "\n",
        "def Check_Number(n):\n",
        "  if n==0:\n",
        "    print(\"Number is Zero(0).\")\n",
        "  elif n>0:\n",
        "    print(\"Number is Positive.\")\n",
        "  else:\n",
        "    print(\"Number is Negative.\")\n",
        "  return n\n",
        "\n",
        "n = int(input(\"Enter The Number : \"))\n",
        "\n",
        "result = Check_Number(n)\n",
        "print(\"Number is : \",result)"
      ],
      "metadata": {
        "colab": {
          "base_uri": "https://localhost:8080/"
        },
        "id": "tQnuOqTv9fLw",
        "outputId": "ccddd635-dd82-4d9c-ebf5-c2eb5fd4dd37"
      },
      "execution_count": null,
      "outputs": [
        {
          "output_type": "stream",
          "name": "stdout",
          "text": [
            "Enter The Number : 5\n",
            "Number is Positive.\n",
            "Number is :  5\n"
          ]
        }
      ]
    },
    {
      "cell_type": "code",
      "source": [
        "#2. Write a Python program to check if a number is even or odd.\n",
        "\n",
        "def Even_Odd(n):\n",
        "  if n%2==0:\n",
        "    print(\"number is Even.\")\n",
        "  else:\n",
        "    print(\"Number is Odd.\")\n",
        "  return n\n",
        "\n",
        "n=int(input(\"Enter The Number : \"))\n",
        "result=Even_Odd(n)\n",
        "\n",
        "print(result)"
      ],
      "metadata": {
        "colab": {
          "base_uri": "https://localhost:8080/"
        },
        "id": "ifi6kvmUDpCr",
        "outputId": "96be6ee3-b330-490f-ece7-6899c37e9282"
      },
      "execution_count": null,
      "outputs": [
        {
          "output_type": "stream",
          "name": "stdout",
          "text": [
            "Enter The Number : 15\n",
            "Number is Odd.\n",
            "15\n"
          ]
        }
      ]
    },
    {
      "cell_type": "code",
      "source": [
        "#3.  Write a Python program to check if a year is a leap year or not.\n",
        "def CheckLeap(year):\n",
        "  if(year%4==0 and year%100!= 0 or year%400==0):\n",
        "    print(\"The year is a leap year!\")\n",
        "  else:\n",
        "    print(\"The year isn't a leap year!\")\n",
        "\n",
        "year=int(input(\"Enter year to be checked:\"))\n",
        "CheckLeap(year)"
      ],
      "metadata": {
        "colab": {
          "base_uri": "https://localhost:8080/"
        },
        "id": "SwU_jMdNEkET",
        "outputId": "7d61e193-651b-4c78-de69-0e0a50f32780"
      },
      "execution_count": null,
      "outputs": [
        {
          "output_type": "stream",
          "name": "stdout",
          "text": [
            "Enter year to be checked:1900\n",
            "The year isn't a leap year!\n"
          ]
        }
      ]
    },
    {
      "cell_type": "code",
      "source": [
        "#4. Write a Python program to find the maximum of three numbers using if-else.\n",
        "\n",
        "def Max(a,b,c):\n",
        "  if a>b:\n",
        "    print(\"A is Greater.\")\n",
        "  elif b>c:\n",
        "    print(\"B is Greater.\")\n",
        "  elif c>a:\n",
        "    print(\"C is Greater.\")\n",
        "  else:\n",
        "    print(\"Invalid Number.\")\n",
        "  return a,b,c\n",
        "\n",
        "a=int(input(\"Enter First Number : \"))\n",
        "b=int(input(\"Enter Second Number : \"))\n",
        "c=int(input(\"Enter Third Number : \"))\n",
        "\n",
        "result=Max(a,b,c)\n",
        "print(result)"
      ],
      "metadata": {
        "colab": {
          "base_uri": "https://localhost:8080/"
        },
        "id": "jjIw83-DFEHg",
        "outputId": "99e7eb0f-b365-4d72-e633-4e93fd2d1dd9"
      },
      "execution_count": null,
      "outputs": [
        {
          "output_type": "stream",
          "name": "stdout",
          "text": [
            "Enter First Number : 10\n",
            "Enter Second Number : 30\n",
            "Enter Third Number : 20\n",
            "B is Greater.\n",
            "(10, 30, 20)\n"
          ]
        }
      ]
    },
    {
      "cell_type": "code",
      "source": [
        "#5. Write a Python program to check if a number is prime.\n",
        "#--> A prime number is a number that can only be divided by itself and 1 without remainders.\n",
        "\n",
        "\n",
        "def Prime(n):\n",
        "  if n > 1:   # If given number is greater than 1\n",
        "    for i in range(2, int(n/2)+1):       # Iterate from 2 to n / 2.\n",
        "      if (n % i) == 0:     # If num is divisible by any number between 2 and n / 2, it is not prime\n",
        "        print(n, \"is not a prime number\")\n",
        "        break\n",
        "    else:\n",
        "      print(n, \"is a prime number\")\n",
        "  else:\n",
        "    print(n, \"is not a prime number\")\n",
        "\n",
        "n = int(input(\"Enter The Number : \"))\n",
        "Prime(n)"
      ],
      "metadata": {
        "colab": {
          "base_uri": "https://localhost:8080/"
        },
        "id": "pEf9i257H0bC",
        "outputId": "0d4e4c26-ce2e-479d-fe4d-24928f87df36"
      },
      "execution_count": null,
      "outputs": [
        {
          "output_type": "stream",
          "name": "stdout",
          "text": [
            "Enter The Number : 11\n",
            "11 is a prime number\n"
          ]
        }
      ]
    },
    {
      "cell_type": "code",
      "source": [
        "#6. Write a Python program to check if a number is divisible by both 3 and 5.\n",
        "\n",
        "def Div(n):\n",
        "  if n%3==0 and n%5==0:\n",
        "    print(\"Number is Divisible By 3 & 5.\")\n",
        "  else:\n",
        "    print(\"Not Divisible.\")\n",
        "\n",
        "\n",
        "n = int(input(\"Enter The Number : \"))\n",
        "Div(n)"
      ],
      "metadata": {
        "colab": {
          "base_uri": "https://localhost:8080/"
        },
        "id": "ggw9zf16Kuas",
        "outputId": "cc00bf13-70a7-415c-91de-935e9e307969"
      },
      "execution_count": null,
      "outputs": [
        {
          "output_type": "stream",
          "name": "stdout",
          "text": [
            "Enter The Number : 30\n",
            "Number is Divisible By 3 & 5.\n"
          ]
        }
      ]
    },
    {
      "cell_type": "code",
      "source": [
        "#7.  Write a Python program to check if a character is a vowel or consonant.\n",
        "\n",
        "def Vowel(word):\n",
        "  if word=='a'or word=='e' or word=='i' or word=='o' or word=='u' or word=='A' or word=='E' or word=='I' or word=='O' or word=='U':\n",
        "    print(\"Is Vowel.\")\n",
        "  else:\n",
        "    print(\"Is Consonant.\")\n",
        "\n",
        "a = str(input(\"Enter the Character : \"))\n",
        "Vowel(a)"
      ],
      "metadata": {
        "colab": {
          "base_uri": "https://localhost:8080/"
        },
        "id": "zyvD1P9bZWSH",
        "outputId": "5e748c5a-a9a7-4d89-b8b5-2a991b0913d9"
      },
      "execution_count": null,
      "outputs": [
        {
          "output_type": "stream",
          "name": "stdout",
          "text": [
            "Enter the Character : h\n",
            "Is Consonant.\n"
          ]
        }
      ]
    },
    {
      "cell_type": "code",
      "source": [
        "#8. Write a Python program to check if a given string is a palindrome using if-else.\n",
        "\n",
        "def Palindrome_str(a):\n",
        "  if a==a[::-1]:\n",
        "    print(\"It is Palindrome.\")\n",
        "  else:\n",
        "    print(\"Not Palindrome.\")\n",
        "\n",
        "a=str(input(\"Enter Your String : \"))\n",
        "\n",
        "Palindrome_str(a)"
      ],
      "metadata": {
        "colab": {
          "base_uri": "https://localhost:8080/"
        },
        "id": "pO0Mxn0Bb0Ad",
        "outputId": "126fa91b-8751-40c7-9deb-da5b76c0e395"
      },
      "execution_count": null,
      "outputs": [
        {
          "output_type": "stream",
          "name": "stdout",
          "text": [
            "Enter Your String : level\n",
            "It is Palindrome.\n"
          ]
        }
      ]
    },
    {
      "cell_type": "code",
      "source": [
        "#9. Write a Python program to determine the largest among three numbers using nested if-else.\n",
        "\n",
        "def Largest(p,q,r):\n",
        "  if p>q :\n",
        "    if p>r:\n",
        "      print(\" First Number is Greater.\")\n",
        "    else :\n",
        "      print(\"Third Number is Greater.\")\n",
        "  else:\n",
        "    if q>r:\n",
        "      print(\"Second Number is greater.\")\n",
        "    else:\n",
        "      print(\"Third Number is Greater.\")\n",
        "\n",
        "p=int(input(\"Enter First Number : \"))\n",
        "q=int(input(\"Enter Second Number : \"))\n",
        "r=int(input(\"Enter Third Number : \"))\n",
        "\n",
        "Largest(p,q,r)"
      ],
      "metadata": {
        "colab": {
          "base_uri": "https://localhost:8080/"
        },
        "id": "1XlOEKdhe7Ox",
        "outputId": "bcaa5ea1-425d-4697-8b4b-18d705debbae"
      },
      "execution_count": null,
      "outputs": [
        {
          "output_type": "stream",
          "name": "stdout",
          "text": [
            "Enter First Number : 10\n",
            "Enter Second Number : 60\n",
            "Enter Third Number : 30\n",
            "Second Number is greater.\n"
          ]
        }
      ]
    },
    {
      "cell_type": "code",
      "source": [
        "#10. Write a Python program to check if a triangle is equilateral, isosceles, or scalene based on its side lengths using if-else.\n",
        "\n",
        "def Triangle(a,b,c):\n",
        "  if a==b:\n",
        "    if b==c and a==c:\n",
        "      print(\"Triangle is Equilateral.\")\n",
        "    else:\n",
        "      print(\"Triangle is Isosceles.\")\n",
        "  else:\n",
        "    if a==b and b==c:\n",
        "      print(\"Triangle is Isosceles.\")\n",
        "    else:\n",
        "      print(\"Triangle is Scalene.\")\n",
        "\n",
        "a=int(input(\"Enter First Side : \"))\n",
        "b=int(input(\"Enter Second Side : \"))\n",
        "c=int(input(\"Enter Third Side : \"))\n",
        "\n",
        "Triangle(a,b,c)\n"
      ],
      "metadata": {
        "colab": {
          "base_uri": "https://localhost:8080/"
        },
        "id": "-qXjkzAgiUfr",
        "outputId": "6efae948-97fd-4253-d8a0-f62890d3ab36"
      },
      "execution_count": null,
      "outputs": [
        {
          "output_type": "stream",
          "name": "stdout",
          "text": [
            "Enter First Side : 10\n",
            "Enter Second Side : 10\n",
            "Enter Third Side : 20\n",
            "Triangle is Isosceles.\n"
          ]
        }
      ]
    },
    {
      "cell_type": "code",
      "source": [],
      "metadata": {
        "id": "cfdx4zsxmTe1"
      },
      "execution_count": null,
      "outputs": []
    }
  ]
}