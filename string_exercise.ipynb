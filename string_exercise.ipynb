{
  "nbformat": 4,
  "nbformat_minor": 0,
  "metadata": {
    "colab": {
      "provenance": []
    },
    "kernelspec": {
      "name": "python3",
      "display_name": "Python 3"
    },
    "language_info": {
      "name": "python"
    }
  },
  "cells": [
    {
      "cell_type": "code",
      "execution_count": 1,
      "metadata": {
        "colab": {
          "base_uri": "https://localhost:8080/",
          "height": 0
        },
        "id": "NYtHkELMm-qC",
        "outputId": "53fbe306-0cee-46bd-eb0a-4b63f9e95762"
      },
      "outputs": [
        {
          "output_type": "stream",
          "name": "stdout",
          "text": [
            "Enter Your String : Hello Everyone !\n",
            "Number of Characters in a String :  16\n"
          ]
        }
      ],
      "source": [
        "# 1. Write a Python program to count the number of characters in a string.\n",
        "\n",
        "user_input = input(\"Enter Your String : \")  #get the input from user\n",
        "count = len(user_input) #Count the number of character using len() function/method.\n",
        "print(\"Number of Characters in a String : \",count) #print it"
      ]
    },
    {
      "cell_type": "code",
      "source": [
        "# 2. Write a Python program to reverse a string.\n",
        "\n",
        "string = input(\"Enter Your String : \") #get the input from user\n",
        "reverse_string = string[::-1] #reverse the string using indexing\n",
        "print(\"Convert Given String into Reverse String : \",reverse_string) #print it"
      ],
      "metadata": {
        "colab": {
          "base_uri": "https://localhost:8080/",
          "height": 0
        },
        "id": "ig6zzLdppvsF",
        "outputId": "b1e5bbee-fb26-4c20-cbc7-5768fef27ddd"
      },
      "execution_count": 2,
      "outputs": [
        {
          "output_type": "stream",
          "name": "stdout",
          "text": [
            "Enter Your String : Have a good day!\n",
            "Convert Given String into Reverse String :  !yad doog a evaH\n"
          ]
        }
      ]
    },
    {
      "cell_type": "code",
      "source": [
        "# 3. Write a Python program to check if a string is a palindrome.\n",
        "\n",
        "user_input = input(\"Enter the String : \") #get the input from user\n",
        "clean_input = user_input.lower() #convert given input into lower case for case sensitiveness\n",
        "reverse_string = clean_input[::-1] #reverse clean_input\n",
        "\n",
        "if clean_input == reverse_string : #Check Pallindrome or Not Pallindrome\n",
        "  print(\" It is Pallindrome string.\")\n",
        "else:\n",
        "  print(\" It is Not - Pallindrome string.\")\n"
      ],
      "metadata": {
        "colab": {
          "base_uri": "https://localhost:8080/",
          "height": 0
        },
        "id": "yx6SofwNqwJy",
        "outputId": "f918d3ce-274b-4390-e821-43eb40769c20"
      },
      "execution_count": 3,
      "outputs": [
        {
          "output_type": "stream",
          "name": "stdout",
          "text": [
            "Enter the String : Madam\n",
            " It is Pallindrome string.\n"
          ]
        }
      ]
    },
    {
      "cell_type": "code",
      "source": [
        "# 4. Write a Python program to remove all the vowels from a string.\n",
        "\n",
        "user_input = input(\"Enter Your String : \") ##get the input from user\n",
        "def remove_vowels(user_input) :  #create function for removing vowels.\n",
        "  vowels = \"aeiouAEIOU\"\n",
        "  without_v = \"\"\n",
        "  for char in user_input :\n",
        "    if char not in vowels :\n",
        "      without_v += char\n",
        "  return without_v\n",
        "\n",
        "result = remove_vowels(user_input) #call function\n",
        "print(\" String Without a Vowels : \",result) #print output without vowels"
      ],
      "metadata": {
        "colab": {
          "base_uri": "https://localhost:8080/",
          "height": 0
        },
        "id": "yQeK4eFZvfry",
        "outputId": "1cc36dd5-871d-41e6-f541-24e68eab1953"
      },
      "execution_count": 4,
      "outputs": [
        {
          "output_type": "stream",
          "name": "stdout",
          "text": [
            "Enter Your String : Welcome To Mumbai\n",
            " String Without a Vowels :  Wlcm T Mmb\n"
          ]
        }
      ]
    },
    {
      "cell_type": "code",
      "source": [
        "# 5. Write a Python program to find the first non-repeating character in a string.\n",
        "\n",
        "def first_non_repeat_char(string):\n",
        "  no_of_char = {}   # use a dictionary to keep track of the frequency of each character in the string\n",
        "  for char in string:  #count the number of characters available in the string\n",
        "    no_of_char[char] = no_of_char.get(char, 0) + 1\n",
        "\n",
        "  for char in string:     # Iterate through the string to find the first non-repeating character\n",
        "    if no_of_char[char] == 1:\n",
        "      return char\n",
        "  return char\n",
        "\n",
        "string =input(\"Enter Your String : \")\n",
        "result = first_non_repeat_char(string) #call Function\n",
        "\n",
        "if result:\n",
        "  print(\"first non-repeating character in string is : \",result)\n",
        "else:\n",
        "  print(\"There is NO any Non-Repeating Characters in : \",string)\n"
      ],
      "metadata": {
        "id": "GrmQsr9O0NSR",
        "colab": {
          "base_uri": "https://localhost:8080/",
          "height": 0
        },
        "outputId": "829188c4-01c3-479f-afc2-ad1b5907ad60"
      },
      "execution_count": 9,
      "outputs": [
        {
          "output_type": "stream",
          "name": "stdout",
          "text": [
            "Enter Your String : Suraj Nikam\n",
            "first non-repeating character in string is :  S\n"
          ]
        }
      ]
    },
    {
      "cell_type": "code",
      "source": [
        "# 6. Write a Python program to capitalize the first letter of each word in a string.\n",
        "\n",
        "def capitalize_string(user_input):\n",
        "  return user_input.title()\n",
        "\n",
        "user_input = input(\"Enter Your String : \")\n",
        "string = capitalize_string(user_input)\n",
        "print(\"capitalize the first letter of each word in a string : \",string)"
      ],
      "metadata": {
        "colab": {
          "base_uri": "https://localhost:8080/",
          "height": 0
        },
        "id": "-8yskEz7eGal",
        "outputId": "ede6d397-68aa-4a2b-b0bc-e50f00b5b750"
      },
      "execution_count": 11,
      "outputs": [
        {
          "output_type": "stream",
          "name": "stdout",
          "text": [
            "Enter Your String : today is friday\n",
            "capitalize the first letter of each word in a string :  Today Is Friday\n"
          ]
        }
      ]
    },
    {
      "cell_type": "code",
      "source": [
        "# 7. Write a Python program to check if a string is an anagram of another string.\n",
        "\n",
        "def anagram(str1,str2):\n",
        "  str1 = str1.replace(\" \",\"\").lower()\n",
        "  str2 = str2.replace(\" \",\"\").lower()\n",
        "\n",
        "  return sorted(str1) == sorted(str2)\n",
        "\n",
        "str1 = input(\"Enter First String :\")\n",
        "str2 = input(\"Enter Second String :\")\n",
        "\n",
        "result = anagram(str1,str2)\n",
        "print(\" String  Is Anagram \",result)"
      ],
      "metadata": {
        "colab": {
          "base_uri": "https://localhost:8080/",
          "height": 0
        },
        "id": "Zhk7UYS9fVqy",
        "outputId": "358e36b7-51c3-44cc-a42c-95a9296fd467"
      },
      "execution_count": 12,
      "outputs": [
        {
          "output_type": "stream",
          "name": "stdout",
          "text": [
            "Enter First String :Silent\n",
            "Enter Second String :Listen\n",
            " String  Is Anagram  True\n"
          ]
        }
      ]
    },
    {
      "cell_type": "code",
      "source": [
        "# 8. Write a Python program to find the most frequent character in a string.\n",
        "\n",
        "def max_char(a):\n",
        "    a = a.lower()\n",
        "    d = {char:a.count(char) for char in set(a) if char != ' '}\n",
        "    print(d)\n",
        "    most_freq = max(d.values())\n",
        "    freq_char = []\n",
        "    for key,value in d.items():\n",
        "        if value == most_freq:\n",
        "            freq_char.append(key)\n",
        "    return freq_char\n",
        "a = input('Enter string: ')\n",
        "print('Most frequent characters in given string is/are: ', *max_char(a))"
      ],
      "metadata": {
        "colab": {
          "base_uri": "https://localhost:8080/",
          "height": 0
        },
        "id": "6A49xi7kg64U",
        "outputId": "3d22676a-f914-4dc3-aa3f-fbce25b6339c"
      },
      "execution_count": 15,
      "outputs": [
        {
          "output_type": "stream",
          "name": "stdout",
          "text": [
            "Enter string: programming\n",
            "{'p': 1, 'a': 1, 'g': 2, 'r': 2, 'i': 1, 'o': 1, 'n': 1, 'm': 2}\n",
            "Most frequent characters in given string is/are:  g r m\n"
          ]
        }
      ]
    },
    {
      "cell_type": "code",
      "source": [
        "# 9.  Write a Python program to check if a string is a valid email address.\n",
        "\n",
        "def valid_email(str):\n",
        "    if '@' in str and '.' in str.split('@')[1]:\n",
        "        username = str.split('@')[0]\n",
        "        domain = str.split('@')[1]\n",
        "        condition1 = username.isalnum()\n",
        "        condition2 = domain.split('.')[0].isalnum()\n",
        "        condition3 = domain.split('.')[1].isalpha()\n",
        "        if condition1 and condition2 and condition3:\n",
        "            return 'Valid E-mail'\n",
        "    return 'Invalid E-mail'\n",
        "str = input('Enter e-mail ID to validate: ')\n",
        "print(valid_email(str))"
      ],
      "metadata": {
        "colab": {
          "base_uri": "https://localhost:8080/",
          "height": 0
        },
        "id": "zTl_0orti4Ov",
        "outputId": "7e73565e-1b98-4f79-d90f-da32ca0bf108"
      },
      "execution_count": 17,
      "outputs": [
        {
          "output_type": "stream",
          "name": "stdout",
          "text": [
            "Enter e-mail ID to validate: suraj7726@gmail.com\n",
            "Valid E-mail\n"
          ]
        }
      ]
    },
    {
      "cell_type": "code",
      "source": [
        "# 10. Write a Python program to find the length of the longest substring without repeating characters.\n",
        "\n",
        "str = \"when an unknown printer took a galley of type and scrambled it to make a type specimen book\"\n",
        "\n",
        "list = str.split(' ')\n",
        "res = -1\n",
        "res_word = ''\n",
        "for word in list:\n",
        "    if len(word) > res and len(word) == len(set(word)):\n",
        "        res = len(word)\n",
        "        res_word = word\n",
        "print('Length Of The Longest Substring Without Repeating Characters In String: ', res,'- for word -->', res_word)\n"
      ],
      "metadata": {
        "colab": {
          "base_uri": "https://localhost:8080/"
        },
        "id": "JyJGWZDQiWjd",
        "outputId": "81c927c2-0048-4de0-f0b0-0685dd36a0fe"
      },
      "execution_count": 24,
      "outputs": [
        {
          "output_type": "stream",
          "name": "stdout",
          "text": [
            "Length of the longest substring without repeating characters:  9 - for word --> scrambled\n"
          ]
        }
      ]
    }
  ]
}