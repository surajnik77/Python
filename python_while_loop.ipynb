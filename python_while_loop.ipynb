{
  "nbformat": 4,
  "nbformat_minor": 0,
  "metadata": {
    "colab": {
      "provenance": [],
      "authorship_tag": "ABX9TyP5RziVs2xMLHxB0zQmwTe/",
      "include_colab_link": true
    },
    "kernelspec": {
      "name": "python3",
      "display_name": "Python 3"
    },
    "language_info": {
      "name": "python"
    }
  },
  "cells": [
    {
      "cell_type": "markdown",
      "metadata": {
        "id": "view-in-github",
        "colab_type": "text"
      },
      "source": [
        "<a href=\"https://colab.research.google.com/github/surajnik77/Python/blob/main/python_while_loop.ipynb\" target=\"_parent\"><img src=\"https://colab.research.google.com/assets/colab-badge.svg\" alt=\"Open In Colab\"/></a>"
      ]
    },
    {
      "cell_type": "markdown",
      "source": [
        "#While Loop Exercises:\n",
        "\n",
        "1. Write a Python program to print the numbers from 1 to 10 using a while loop.\n",
        "2. Write a Python program to calculate the sum of all numbers from 1 to 100 using a while loop.\n",
        "3. Write a Python program to find the factorial of a number using a while loop.\n",
        "4. Write a Python program to print all the even numbers between 1 and 50 using a while loop.\n",
        "5. Write a Python program to iterate over a string and print each character using a while loop.\n",
        "6. Write a Python program to iterate over a list of tuples and print each element using a while loop.\n",
        "7. Write a Python program to find the largest element in a list using a while loop.\n",
        "8. Write a Python program to check if all elements in a list are even using a while loop.\n",
        "9. Write a Python program to find the common elements between two lists using a while loop.\n",
        "10. Write a Python program to calculate the sum of the digits of a number using a while loop."
      ],
      "metadata": {
        "id": "56k0w01KOgn2"
      }
    },
    {
      "cell_type": "code",
      "source": [
        "#1. Write a Python program to print the numbers from 1 to 10 using a while loop.\n",
        "\n",
        "i=1                             #initialize i=1\n",
        "while i<=10:                    #increase i till i=10\n",
        "  print(i)\n",
        "  i+=1                          #increament i value i=i+1\n",
        "\n"
      ],
      "metadata": {
        "colab": {
          "base_uri": "https://localhost:8080/"
        },
        "id": "dXEw2xTwO0P-",
        "outputId": "1cd440c0-1ebb-44d1-befe-56585370daf3"
      },
      "execution_count": 26,
      "outputs": [
        {
          "output_type": "stream",
          "name": "stdout",
          "text": [
            "1\n",
            "2\n",
            "3\n",
            "4\n",
            "5\n",
            "6\n",
            "7\n",
            "8\n",
            "9\n",
            "10\n"
          ]
        }
      ]
    },
    {
      "cell_type": "code",
      "source": [
        "#2. Write a Python program to calculate the sum of all numbers from 1 to 100 using a while loop.\n",
        "\n",
        "def Add(n):\n",
        "  sum=0                                                   #sum is 0\n",
        "  i=1                                                     #i starts from 1\n",
        "  while i<=n:                                             # loop i till i<=n\n",
        "    sum+=i                                                #addition of sum and i\n",
        "    i+=1                                                  # increament i\n",
        "  return sum                                              #return sum of all n.\n",
        "\n",
        "result=Add(100)\n",
        "print(\"Sum of All Numbers From 1 to 100 : \",result)\n"
      ],
      "metadata": {
        "colab": {
          "base_uri": "https://localhost:8080/"
        },
        "id": "wiFmx1oGQ3f7",
        "outputId": "de959e71-966f-491c-f2ca-6a964f8700ea"
      },
      "execution_count": 27,
      "outputs": [
        {
          "output_type": "stream",
          "name": "stdout",
          "text": [
            "Sum of All Numbers From 1 to 100 :  5050\n"
          ]
        }
      ]
    },
    {
      "cell_type": "code",
      "source": [
        "#3. Write a Python program to find the factorial of a number using a while loop.\n",
        "\n",
        "def Factorial_num(n):\n",
        "  fact=1\n",
        "  i=1\n",
        "  while i<=n:\n",
        "    fact=fact*i\n",
        "    i+=1\n",
        "  return fact\n",
        "\n",
        "n = int(input(\"Enter The Number : \"))\n",
        "result=Factorial_num(n)\n",
        "\n",
        "print(\"Factorial Of Given Number : \",result)"
      ],
      "metadata": {
        "colab": {
          "base_uri": "https://localhost:8080/"
        },
        "id": "7419lf5zTDzN",
        "outputId": "cc44f341-7735-44aa-912b-93701defeb19"
      },
      "execution_count": 28,
      "outputs": [
        {
          "output_type": "stream",
          "name": "stdout",
          "text": [
            "Enter The Number : 5\n",
            "Factorial Of Given Number :  120\n"
          ]
        }
      ]
    },
    {
      "cell_type": "code",
      "source": [
        "#4. Write a Python program to print all the even numbers between 1 and 50 using a while loop.\n",
        "\n",
        "def Even(n):\n",
        "  i=1\n",
        "  a=[]\n",
        "  while i<=n:\n",
        "    if i%2==0:\n",
        "      print(i)\n",
        "    i+=1\n",
        "  return n\n",
        "\n",
        "n = int(input(\"Enter The Number : \"))\n",
        "print(\"Even Number Between Of 1 to n : \",Even(n))\n",
        "\n",
        "\n"
      ],
      "metadata": {
        "colab": {
          "base_uri": "https://localhost:8080/"
        },
        "id": "VgNi_nWXTOPN",
        "outputId": "2c5d46ae-3b1f-403b-8ed1-e83f45b6fb22"
      },
      "execution_count": 46,
      "outputs": [
        {
          "output_type": "stream",
          "name": "stdout",
          "text": [
            "Enter The Number : 50\n",
            "2\n",
            "4\n",
            "6\n",
            "8\n",
            "10\n",
            "12\n",
            "14\n",
            "16\n",
            "18\n",
            "20\n",
            "22\n",
            "24\n",
            "26\n",
            "28\n",
            "30\n",
            "32\n",
            "34\n",
            "36\n",
            "38\n",
            "40\n",
            "42\n",
            "44\n",
            "46\n",
            "48\n",
            "50\n",
            "Even Number Between Of 1 to n :  50\n"
          ]
        }
      ]
    },
    {
      "cell_type": "code",
      "source": [
        "#5. Write a Python program to iterate over a string and print each character using a while loop.\n",
        "\n",
        "def Iterate(a):                         #create function for iterate string and pass string in (a)\n",
        "  i=0                                   #length of string starts from 0.\n",
        "  while i<len(a):                       #calling first letter\n",
        "    print(a[i])                         #print letter of a 1 by 1\n",
        "    i+=1                                #increament i\n",
        "\n",
        "a = str(input(\"Enter The String : \"))   #user input\n",
        "Iterate(a)                              #fuction call"
      ],
      "metadata": {
        "colab": {
          "base_uri": "https://localhost:8080/"
        },
        "id": "o5W1mYzEYStr",
        "outputId": "b23ad4d1-df02-4fc0-a65f-c51ada511883"
      },
      "execution_count": 47,
      "outputs": [
        {
          "output_type": "stream",
          "name": "stdout",
          "text": [
            "Enter The String : PYTHON\n",
            "P\n",
            "Y\n",
            "T\n",
            "H\n",
            "O\n",
            "N\n"
          ]
        }
      ]
    },
    {
      "cell_type": "code",
      "source": [
        "#6.  Write a Python program to iterate over a list of tuples and print each element using a while loop.\n",
        "\n",
        "def Iterate_tuples(abs):\n",
        "\n",
        "    i = 0                # Initialize an index for the while loop\n",
        "    while i < len(a):            # Iterate over the list using a while loop\n",
        "        current_tuple = a[i]               # Access the current tuple\n",
        "\n",
        "        for element in current_tuple:           # Iterate over elements in the tuple\n",
        "            print(element)          # Print each element\n",
        "        i+=1                 # Move to the next tuple in the list\n",
        "\n",
        "a = list_of_tuples = [(1, 'PYTHON'), (2, 'C'), (3, 'JAVA'),(4,'PHP'),(5,'R')]\n",
        "Iterate_tuples(a)"
      ],
      "metadata": {
        "colab": {
          "base_uri": "https://localhost:8080/"
        },
        "id": "1u0gkpwQcfhH",
        "outputId": "6ebd21a3-26a3-48be-e2d8-91c8e09b5050"
      },
      "execution_count": 31,
      "outputs": [
        {
          "output_type": "stream",
          "name": "stdout",
          "text": [
            "1\n",
            "PYTHON\n",
            "2\n",
            "C\n",
            "3\n",
            "JAVA\n",
            "4\n",
            "PHP\n",
            "5\n",
            "R\n"
          ]
        }
      ]
    },
    {
      "cell_type": "code",
      "source": [
        "#7. Write a Python program to find the largest element in a list using a while loop.\n",
        "\n",
        "def Find_largest(n):\n",
        "  i=0                 # Initialize an index for the while loop\n",
        "  max_in_list = n[0]            # Initialize variables to keep track of the largest element\n",
        "  while i < len(n):        # Iterate over the list using a while loop\n",
        "    if  n[i] > max_in_list:       #check element is Largest or not\n",
        "      max_in_list = n[i]       #Access over list\n",
        "    i+=1                 # Move to the next element in the list\n",
        "  return max_in_list\n",
        "\n",
        "n = [10,20,30,40,100,50,60,70,80,90]        #Given input list\n",
        "print(\"The Largest Element In A List : \",Find_largest(n)) #call function and print"
      ],
      "metadata": {
        "colab": {
          "base_uri": "https://localhost:8080/"
        },
        "id": "GtDbqe9KetcC",
        "outputId": "e4be811e-0c26-4206-eabd-37c6d28c1955"
      },
      "execution_count": 56,
      "outputs": [
        {
          "output_type": "stream",
          "name": "stdout",
          "text": [
            "The Largest Element In A List :  100\n"
          ]
        }
      ]
    },
    {
      "cell_type": "code",
      "source": [
        "#8.  Write a Python program to check if all elements in a list are even using a while loop.(Added Even Number in New List)\n",
        "\n",
        "def Check_even(a):\n",
        "  i=0               # Initialize an index for the while loop\n",
        "  even_list=[]           # Initialize an empty list to store common elements\n",
        "  while i < len(a):       # Iterate over the list using a while loop\n",
        "    if a[i]%2==0:      #Check Even Numbers in list\n",
        "      even_list.append(a[i])       #append even numbers in empty list\n",
        "    i+=1              # Move to the next element in the list\n",
        "  return even_list\n",
        "\n",
        "a=[1, 2, 3, 4, 5, 6, 7, 8, 9, 10, 11, 12, 13, 14, 15, 16, 17, 18, 19, 20]    #Given user input list\n",
        "print(\"Original List : \",a)   #print Original List\n",
        "print(\"Even List :\",Check_even(a))    #call function and print"
      ],
      "metadata": {
        "colab": {
          "base_uri": "https://localhost:8080/"
        },
        "id": "2Dp7YIVYouTR",
        "outputId": "a0505891-56a6-4d6e-db9d-a80b5cfe091b"
      },
      "execution_count": 57,
      "outputs": [
        {
          "output_type": "stream",
          "name": "stdout",
          "text": [
            "Original List :  [1, 2, 3, 4, 5, 6, 7, 8, 9, 10, 11, 12, 13, 14, 15, 16, 17, 18, 19, 20]\n",
            "Even List : [2, 4, 6, 8, 10, 12, 14, 16, 18, 20]\n"
          ]
        }
      ]
    },
    {
      "cell_type": "code",
      "source": [
        "#9. Write a Python program to find the common elements between two lists using a while loop.\n",
        "\n",
        "def Common_element(a,b):\n",
        "  result=[]    # Initialize an empty list to store common elements\n",
        "  i=0        # Initialize an empty list for the first input list\n",
        "  j=0         # Initialize an empty list for the second input list\n",
        "  while i < len(a) and j < len(b):\n",
        "    if a[i]==b[j]:        #check Both list are same or not\n",
        "      result.append(a[i])  #if same then append in result list\n",
        "      i+=1  #increase index of first list\n",
        "      j+=1  #increase index of second list\n",
        "    elif a[i] < b[j]:   #check if second list is greater than first\n",
        "      i+=1        #then increment in index of first list\n",
        "    else:\n",
        "      j+=1      #else increment in index of second list\n",
        "  return result\n",
        "\n",
        "a=[1,2,3,4,5]\n",
        "b=[1,2,3,4,5,6,7,8,9,10]\n",
        "print(\"First List : \",a)    #First list\n",
        "print(\"First List : \",b)    #Second list\n",
        "print(\"Common Elements : \",Common_element(a,b))    # Display the common elements"
      ],
      "metadata": {
        "colab": {
          "base_uri": "https://localhost:8080/"
        },
        "id": "thltwyVkqN3d",
        "outputId": "ebfc8671-61e4-4ddc-c794-7c51a6b28f69"
      },
      "execution_count": 58,
      "outputs": [
        {
          "output_type": "stream",
          "name": "stdout",
          "text": [
            "First List :  [1, 2, 3, 4, 5]\n",
            "First List :  [1, 2, 3, 4, 5, 6, 7, 8, 9, 10]\n",
            "Common Elements :  [1, 2, 3, 4, 5]\n"
          ]
        }
      ]
    },
    {
      "cell_type": "code",
      "source": [
        "#10.  Write a Python program to calculate the sum of the digits of a number using a while loop.\n",
        "\n",
        "def Sum_digit(n):\n",
        "  sum=0       #Initiate Variable\n",
        "  while n > 0:  #Use a while loop to calculate the sum of digits\n",
        "    sum += n %10    # Add the digit to the sum\n",
        "    n //= 10      # Remove the last digit from the number\n",
        "  return sum\n",
        "a=int(input(\"Enter The Digits : \"))     #User input\n",
        "print(\"Sum of Digits of \",n,\"is : \",Sum_digit(n))     #print and call function"
      ],
      "metadata": {
        "colab": {
          "base_uri": "https://localhost:8080/"
        },
        "id": "byv-VXP4XjNE",
        "outputId": "a65d3531-189a-4f6a-a3dc-a885357b79ea"
      },
      "execution_count": 64,
      "outputs": [
        {
          "output_type": "stream",
          "name": "stdout",
          "text": [
            "Enter The Digits : 123456\n",
            "Sum of Digits of  123456 is :  21\n"
          ]
        }
      ]
    }
  ]
}